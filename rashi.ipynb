{
 "cells": [
  {
   "cell_type": "code",
   "execution_count": 110,
   "metadata": {},
   "outputs": [
    {
     "name": "stdout",
     "output_type": "stream",
     "text": [
      "0.6\n"
     ]
    }
   ],
   "source": [
    "import cv2\n",
    "import numpy as np\n",
    "from matplotlib import pyplot as plt\n",
    "from random import randint\n",
    "\n",
    "def read_train_images():\n",
    "    images = []\n",
    "    cat = []\n",
    "    \n",
    "    \n",
    "    for i in range(1, 25):\n",
    "        \n",
    "        f = randint(1, 2)\n",
    "        if f is 1:\n",
    "            img = cv2.imread('1/%d.jpg' % i,0)\n",
    "            edges = cv2.Canny(img,50,100)\n",
    "            images.append(np.hstack(edges))\n",
    "            cat.append([1, 0])\n",
    "        else:\n",
    "            img = cv2.imread('1_NOT/%d.jpg' % i,0)\n",
    "            edges = cv2.Canny(img,50,100)\n",
    "            images.append(np.hstack(edges))\n",
    "            cat.append([0, 1])\n",
    "        \n",
    "        \n",
    "    images = np.array(images)\n",
    "    cat = np.array(cat)\n",
    "    return images, cat\n",
    "\n",
    "def read_test_images():\n",
    "    images = []\n",
    "    cat = []\n",
    "    for i in range(25, 30):\n",
    "        \n",
    "        f = randint(1, 2)\n",
    "        if f is 1:\n",
    "            img = cv2.imread('1/%d.jpg' % i,0)\n",
    "            edges = cv2.Canny(img,50,100)\n",
    "            images.append(np.hstack(edges))\n",
    "            cat.append([1, 0])\n",
    "        else:\n",
    "            img = cv2.imread('1_NOT/%d.jpg' % i,0)\n",
    "            edges = cv2.Canny(img,50,100)\n",
    "            images.append(np.hstack(edges))\n",
    "            cat.append([0, 1])\n",
    "        \n",
    "        \n",
    "    images = np.array(images)\n",
    "    cat = np.array(cat)\n",
    "    return images, cat\n",
    "\n",
    "\n",
    "import tensorflow as tf\n",
    "x = tf.placeholder(tf.float32, [None, 12100])\n",
    "W = tf.Variable(tf.zeros([12100, 2]))\n",
    "b = tf.Variable(tf.zeros([2]))\n",
    "\n",
    "y = tf.nn.softmax(tf.matmul(x, W) + b)\n",
    "y_ = tf.placeholder(tf.float32, [None, 2])\n",
    "cross_entropy = tf.reduce_mean(-tf.reduce_sum(y_ * tf.log(y), reduction_indices=[1]))\n",
    "train_step = tf.train.GradientDescentOptimizer(0.5).minimize(cross_entropy)\n",
    "\n",
    "\n",
    "sess = tf.InteractiveSession()\n",
    "tf.global_variables_initializer().run()\n",
    "\n",
    "for _ in range(1500):\n",
    "    #batch_xs, batch_ys = mnist.train.next_batch(100)\n",
    "    batch_xs, batch_ys = read_train_images()\n",
    "    sess.run(train_step, feed_dict={x: batch_xs, y_: batch_ys})\n",
    "    \n",
    "correct_prediction = tf.equal(tf.argmax(y,1), tf.argmax(y_,1))\n",
    "accuracy = tf.reduce_mean(tf.cast(correct_prediction, tf.float32))\n",
    "test_xs, test_ys = read_test_images()\n",
    "print(sess.run(accuracy, feed_dict={x:test_xs , y_: test_ys}))\n",
    "\n",
    "\n"
   ]
  },
  {
   "cell_type": "code",
   "execution_count": null,
   "metadata": {},
   "outputs": [],
   "source": []
  }
 ],
 "metadata": {
  "kernelspec": {
   "display_name": "Python 3",
   "language": "python",
   "name": "python3"
  },
  "language_info": {
   "codemirror_mode": {
    "name": "ipython",
    "version": 3
   },
   "file_extension": ".py",
   "mimetype": "text/x-python",
   "name": "python",
   "nbconvert_exporter": "python",
   "pygments_lexer": "ipython3",
   "version": "3.4.3"
  }
 },
 "nbformat": 4,
 "nbformat_minor": 2
}
